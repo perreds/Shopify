{
 "cells": [
  {
   "cell_type": "markdown",
   "id": "ae51e551",
   "metadata": {},
   "source": [
    "# Shopify DataScience Intership Challenge"
   ]
  },
  {
   "cell_type": "markdown",
   "id": "4659ea4c",
   "metadata": {},
   "source": [
    "## Question 1: \n",
    "Given some sample data, write a program to answer the following: click here to access the required data set\n",
    "\n",
    "On Shopify, we have exactly 100 sneaker shops, and each of these shops sells only one model of shoe. We want to do some analysis of the average order value (AOV). When we look at orders data over a 30 day window, we naively calculate an AOV of $3145.13. Given that we know these shops are selling sneakers, a relatively affordable item, something seems wrong with our analysis. \n",
    "\n",
    "a. Think about what could be going wrong with our calculation. Think about a better way to evaluate this data. \n",
    "\n",
    "b. What metric would you report for this dataset?\n",
    "\n",
    "c.What is its value?\n"
   ]
  },
  {
   "cell_type": "code",
   "execution_count": 1,
   "id": "7b312938",
   "metadata": {},
   "outputs": [],
   "source": [
    "# Importing libraries\n",
    "import numpy as np\n",
    "import pandas as pd\n",
    "import matplotlib.pyplot as plt\n",
    "import seaborn as sns"
   ]
  },
  {
   "cell_type": "code",
   "execution_count": 2,
   "id": "0f945b28",
   "metadata": {},
   "outputs": [
    {
     "data": {
      "text/html": [
       "<div>\n",
       "<style scoped>\n",
       "    .dataframe tbody tr th:only-of-type {\n",
       "        vertical-align: middle;\n",
       "    }\n",
       "\n",
       "    .dataframe tbody tr th {\n",
       "        vertical-align: top;\n",
       "    }\n",
       "\n",
       "    .dataframe thead th {\n",
       "        text-align: right;\n",
       "    }\n",
       "</style>\n",
       "<table border=\"1\" class=\"dataframe\">\n",
       "  <thead>\n",
       "    <tr style=\"text-align: right;\">\n",
       "      <th></th>\n",
       "      <th>order_id</th>\n",
       "      <th>shop_id</th>\n",
       "      <th>user_id</th>\n",
       "      <th>order_amount</th>\n",
       "      <th>total_items</th>\n",
       "      <th>payment_method</th>\n",
       "      <th>created_at</th>\n",
       "    </tr>\n",
       "  </thead>\n",
       "  <tbody>\n",
       "    <tr>\n",
       "      <th>0</th>\n",
       "      <td>1</td>\n",
       "      <td>53</td>\n",
       "      <td>746</td>\n",
       "      <td>224</td>\n",
       "      <td>2</td>\n",
       "      <td>cash</td>\n",
       "      <td>2017-03-13 12:36:56</td>\n",
       "    </tr>\n",
       "    <tr>\n",
       "      <th>1</th>\n",
       "      <td>2</td>\n",
       "      <td>92</td>\n",
       "      <td>925</td>\n",
       "      <td>90</td>\n",
       "      <td>1</td>\n",
       "      <td>cash</td>\n",
       "      <td>2017-03-03 17:38:52</td>\n",
       "    </tr>\n",
       "    <tr>\n",
       "      <th>2</th>\n",
       "      <td>3</td>\n",
       "      <td>44</td>\n",
       "      <td>861</td>\n",
       "      <td>144</td>\n",
       "      <td>1</td>\n",
       "      <td>cash</td>\n",
       "      <td>2017-03-14 4:23:56</td>\n",
       "    </tr>\n",
       "    <tr>\n",
       "      <th>3</th>\n",
       "      <td>4</td>\n",
       "      <td>18</td>\n",
       "      <td>935</td>\n",
       "      <td>156</td>\n",
       "      <td>1</td>\n",
       "      <td>credit_card</td>\n",
       "      <td>2017-03-26 12:43:37</td>\n",
       "    </tr>\n",
       "    <tr>\n",
       "      <th>4</th>\n",
       "      <td>5</td>\n",
       "      <td>18</td>\n",
       "      <td>883</td>\n",
       "      <td>156</td>\n",
       "      <td>1</td>\n",
       "      <td>credit_card</td>\n",
       "      <td>2017-03-01 4:35:11</td>\n",
       "    </tr>\n",
       "  </tbody>\n",
       "</table>\n",
       "</div>"
      ],
      "text/plain": [
       "   order_id  shop_id  user_id  order_amount  total_items payment_method  \\\n",
       "0         1       53      746           224            2           cash   \n",
       "1         2       92      925            90            1           cash   \n",
       "2         3       44      861           144            1           cash   \n",
       "3         4       18      935           156            1    credit_card   \n",
       "4         5       18      883           156            1    credit_card   \n",
       "\n",
       "            created_at  \n",
       "0  2017-03-13 12:36:56  \n",
       "1  2017-03-03 17:38:52  \n",
       "2   2017-03-14 4:23:56  \n",
       "3  2017-03-26 12:43:37  \n",
       "4   2017-03-01 4:35:11  "
      ]
     },
     "execution_count": 2,
     "metadata": {},
     "output_type": "execute_result"
    }
   ],
   "source": [
    "#Reading file and preparing dataframe\n",
    "cols = ['order_id', 'shop_id', 'user_id', 'order_amount', 'total_items', \n",
    "        'payment_method', 'created_at']\n",
    "\n",
    "df = pd.read_csv('./2019 Winter Data Science Intern Challenge Data Set - Sheet1.csv', names=cols, na_values = \"?\",\n",
    "                 comment = '\\t', sep =\",\", skiprows = 1)\n",
    "\n",
    "data = df.copy()\n",
    "data.head()"
   ]
  },
  {
   "cell_type": "markdown",
   "id": "1a121b43",
   "metadata": {},
   "source": [
    "Calculating the Average order value AOV = Total revenue / number of orders"
   ]
  },
  {
   "cell_type": "code",
   "execution_count": 3,
   "id": "144930c0",
   "metadata": {},
   "outputs": [
    {
     "data": {
      "text/plain": [
       "3145.128"
      ]
     },
     "execution_count": 3,
     "metadata": {},
     "output_type": "execute_result"
    }
   ],
   "source": [
    "total_amount = data['order_amount'].sum()\n",
    "number_of_orders = len(data)\n",
    "AOV = total_amount/number_of_orders\n",
    "AOV"
   ]
  },
  {
   "cell_type": "markdown",
   "id": "9a125a1d",
   "metadata": {},
   "source": [
    "The AOV = $3145.128 is very high.\n",
    "\n",
    "To check the relevance of this result we can explore the distribution of the order_amount variable using a boxplot"
   ]
  },
  {
   "cell_type": "code",
   "execution_count": 14,
   "id": "b5b35db5",
   "metadata": {},
   "outputs": [
    {
     "data": {
      "image/png": "[encoded data removed]",
      "text/plain": [
       "<Figure size 432x288 with 1 Axes>"
      ]
     },
     "metadata": {
      "needs_background": "light"
     },
     "output_type": "display_data"
    }
   ],
   "source": [
    "sns.boxplot(x=data['order_amount'])\n",
    "plt.show()"
   ]
  },
  {
   "cell_type": "markdown",
   "id": "d2779f48",
   "metadata": {},
   "source": [
    "Here we can see that the order_amount variable has many outliers, specially there are some values around the $700000 that very far away from the calculated first and second quartiles."
   ]
  },
  {
   "cell_type": "markdown",
   "id": "c9dd194b",
   "metadata": {},
   "source": [
    "Without going further in the analysis of the data a better option to evaluate the data of order_amount could be using the median that is less sensible to outliers and gives a better and more useful understanding of the behaviour of order_amount variable."
   ]
  },
  {
   "cell_type": "code",
   "execution_count": 6,
   "id": "4bf902a6",
   "metadata": {},
   "outputs": [
    {
     "data": {
      "text/plain": [
       "284.0"
      ]
     },
     "execution_count": 6,
     "metadata": {},
     "output_type": "execute_result"
    }
   ],
   "source": [
    "data['order_amount'].median()"
   ]
  },
  {
   "cell_type": "markdown",
   "id": "5ae99129",
   "metadata": {},
   "source": [
    "The result for the median for the order_amount variable is $284, this value is more reasonable than the AOV calculated before. The diference between this two values also gives an insight of how much the outliers affect the average meassured."
   ]
  },
  {
   "cell_type": "markdown",
   "id": "81034f7b",
   "metadata": {},
   "source": [
    "Going deeper on the data one can ask about the characteristics of the outliers to consider if they should be treated in a different way, perhaps there is some useful information to focus different merchadizing strategies for those cases.\n",
    "\n",
    "An interesting variable could be the ammount of products ordered. A BoxPlot of the total_items variable would tell us about it."
   ]
  },
  {
   "cell_type": "code",
   "execution_count": 7,
   "id": "0eac85b1",
   "metadata": {},
   "outputs": [
    {
     "data": {
      "image/png": "[encoded data removed]",
      "text/plain": [
       "<Figure size 432x288 with 1 Axes>"
      ]
     },
     "metadata": {
      "needs_background": "light"
     },
     "output_type": "display_data"
    }
   ],
   "source": [
    "#What about number of items per order\n",
    "sns.boxplot(x=data['total_items'])\n",
    "plt.show()"
   ]
  },
  {
   "cell_type": "markdown",
   "id": "3f18cdd2",
   "metadata": {},
   "source": [
    "Once again a very stong outlier ordering near 2000 shoes is found, lets exclude the values over 1000 ordered shoes just to understand the distribution of items ordered per order."
   ]
  },
  {
   "cell_type": "code",
   "execution_count": 15,
   "id": "65dacf35",
   "metadata": {},
   "outputs": [
    {
     "data": {
      "image/png": "[encoded data removed]",
      "text/plain": [
       "<Figure size 432x288 with 1 Axes>"
      ]
     },
     "metadata": {
      "needs_background": "light"
     },
     "output_type": "display_data"
    },
    {
     "data": {
      "image/png": "[encoded data removed]",
      "text/plain": [
       "<Figure size 432x288 with 1 Axes>"
      ]
     },
     "metadata": {
      "needs_background": "light"
     },
     "output_type": "display_data"
    }
   ],
   "source": [
    "cut_value = 9\n",
    "data2 = df[df['total_items'] < cut_value]\n",
    "sns.boxplot(x=data2['total_items'])\n",
    "plt.show()\n",
    "sns.histplot(x=data2['total_items'], kde= True, bins=100)\n",
    "plt.show()"
   ]
  },
  {
   "cell_type": "code",
   "execution_count": null,
   "id": "649d6387",
   "metadata": {
    "scrolled": true
   },
   "outputs": [],
   "source": [
    "hist = data['order_amount'].hist(bins=150)"
   ]
  },
  {
   "cell_type": "code",
   "execution_count": null,
   "id": "d67447e1",
   "metadata": {},
   "outputs": [],
   "source": []
  },
  {
   "cell_type": "code",
   "execution_count": null,
   "id": "47455ef1",
   "metadata": {},
   "outputs": [],
   "source": [
    "\n",
    "sns.histplot(x=data['total_items'], kde= True, bins=50)\n",
    "plt.show()"
   ]
  },
  {
   "cell_type": "code",
   "execution_count": null,
   "id": "d0627d39",
   "metadata": {},
   "outputs": [],
   "source": [
    "cut_value = 9\n",
    "data2 = df[df['total_items'] < cut_value]\n",
    "sns.boxplot(x=data2['total_items'])\n",
    "plt.show()\n",
    "sns.histplot(x=data2['total_items'], kde= True, bins=100)\n",
    "plt.show()\n",
    "total_amount = data2['order_amount'].sum()\n",
    "number_of_orders = len(data2)\n",
    "AOV = total_amount/number_of_orders\n",
    "print(\"For the cut value: \" + str(cut_value) +\", the AOV =\"+ str(AOV))"
   ]
  },
  {
   "cell_type": "code",
   "execution_count": null,
   "id": "117d3e4c",
   "metadata": {},
   "outputs": [],
   "source": [
    "sns.boxplot(x=data2['order_amount'])\n",
    "plt.show()\n",
    "sns.histplot(x=data2['order_amount'], kde= True, bins=100)\n",
    "plt.show()"
   ]
  },
  {
   "cell_type": "code",
   "execution_count": null,
   "id": "0f500768",
   "metadata": {},
   "outputs": [],
   "source": [
    "cut_value = 820\n",
    "data3 = df[df['order_amount'] < cut_value]\n",
    "sns.boxplot(x=data3['order_amount'])\n",
    "plt.show()\n",
    "sns.histplot(x=data3['order_amount'], kde= True, bins=100)\n",
    "plt.show()\n",
    "total_amount = data3['order_amount'].sum()\n",
    "number_of_orders = len(data3)\n",
    "AOV = total_amount/number_of_orders\n",
    "print(\"For the cut value: \" + str(cut_value) +\", the AOV =\"+ str(AOV))"
   ]
  },
  {
   "cell_type": "code",
   "execution_count": null,
   "id": "d55a8acb",
   "metadata": {},
   "outputs": [],
   "source": [
    "data['order_amount'].median()"
   ]
  },
  {
   "cell_type": "markdown",
   "id": "7ba3957c",
   "metadata": {},
   "source": [
    "# Final idea:\n",
    "use the median and give a comment about the super outlier, he should be treated different."
   ]
  },
  {
   "cell_type": "code",
   "execution_count": null,
   "id": "97246ddf",
   "metadata": {},
   "outputs": [],
   "source": []
  }
 ],
 "metadata": {
  "kernelspec": {
   "display_name": "Python 3 (ipykernel)",
   "language": "python",
   "name": "python3"
  },
  "language_info": {
   "codemirror_mode": {
    "name": "ipython",
    "version": 3
   },
   "file_extension": ".py",
   "mimetype": "text/x-python",
   "name": "python",
   "nbconvert_exporter": "python",
   "pygments_lexer": "ipython3",
   "version": "3.9.7"
  }
 },
 "nbformat": 4,
 "nbformat_minor": 5
}
